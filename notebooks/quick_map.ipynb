{
 "cells": [
  {
   "cell_type": "code",
   "execution_count": null,
   "metadata": {
    "vscode": {
     "languageId": "plaintext"
    }
   },
   "outputs": [],
   "source": [
    "import folium, json, pandas as pd\n",
    "from pathlib import Path\n",
    "\n",
    "gj = json.loads(Path(\"../data/fountains_processed.geojson\").read_text())\n",
    "m = folium.Map(location=[49.27, -123.12], zoom_start=12)\n",
    "folium.GeoJson(gj,\n",
    "               tooltip=folium.GeoJsonTooltip(\n",
    "                   fields=[\"name\", \"address\", \"geo_local_area\"],\n",
    "                   aliases=[\"Name\", \"Address\", \"Neighbourhood\"],\n",
    "               )\n",
    ").add_to(m)\n",
    "m.save(\"../docs/index.html\")"
   ]
  }
 ],
 "metadata": {
  "language_info": {
   "name": "python"
  }
 },
 "nbformat": 4,
 "nbformat_minor": 2
}
